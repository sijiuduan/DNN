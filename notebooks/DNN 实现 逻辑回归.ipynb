{
 "cells": [
  {
   "cell_type": "markdown",
   "metadata": {},
   "source": [
    "# DNN 实现 逻辑回归\n",
    "\n",
    "## 1. 生成一个用于逻辑回归测试的数据"
   ]
  },
  {
   "cell_type": "code",
   "execution_count": 1,
   "metadata": {},
   "outputs": [
    {
     "ename": "NameError",
     "evalue": "name 'Yhat' is not defined",
     "output_type": "error",
     "traceback": [
      "\u001b[0;31m---------------------------------------------------------------------------\u001b[0m",
      "\u001b[0;31mNameError\u001b[0m                                 Traceback (most recent call last)",
      "\u001b[0;32m<ipython-input-1-9d8d615a672b>\u001b[0m in \u001b[0;36m<module>\u001b[0;34m()\u001b[0m\n\u001b[1;32m     33\u001b[0m     \u001b[0mplt\u001b[0m\u001b[0;34m.\u001b[0m\u001b[0mshow\u001b[0m\u001b[0;34m(\u001b[0m\u001b[0;34m)\u001b[0m\u001b[0;34m\u001b[0m\u001b[0m\n\u001b[1;32m     34\u001b[0m \u001b[0;34m\u001b[0m\u001b[0m\n\u001b[0;32m---> 35\u001b[0;31m \u001b[0mtf\u001b[0m \u001b[0;34m=\u001b[0m \u001b[0mtf_data\u001b[0m\u001b[0;34m(\u001b[0m\u001b[0;34m)\u001b[0m\u001b[0;34m\u001b[0m\u001b[0m\n\u001b[0m\u001b[1;32m     36\u001b[0m \u001b[0mplot_tf\u001b[0m\u001b[0;34m(\u001b[0m\u001b[0mtf\u001b[0m\u001b[0;34m)\u001b[0m\u001b[0;34m\u001b[0m\u001b[0m\n\u001b[1;32m     37\u001b[0m \u001b[0mX\u001b[0m \u001b[0;34m=\u001b[0m \u001b[0mtf\u001b[0m\u001b[0;34m[\u001b[0m\u001b[0;34m:\u001b[0m\u001b[0;34m-\u001b[0m\u001b[0;36m1\u001b[0m\u001b[0;34m]\u001b[0m\u001b[0;34m\u001b[0m\u001b[0m\n",
      "\u001b[0;32m<ipython-input-1-9d8d615a672b>\u001b[0m in \u001b[0;36mtf_data\u001b[0;34m(m)\u001b[0m\n\u001b[1;32m     15\u001b[0m     \u001b[0mY\u001b[0m \u001b[0;34m=\u001b[0m \u001b[0mnp\u001b[0m\u001b[0;34m.\u001b[0m\u001b[0mint32\u001b[0m\u001b[0;34m(\u001b[0m\u001b[0mnp\u001b[0m\u001b[0;34m.\u001b[0m\u001b[0marray\u001b[0m\u001b[0;34m(\u001b[0m\u001b[0mR\u001b[0m \u001b[0;34m<\u001b[0m \u001b[0;36m2.5\u001b[0m\u001b[0;34m)\u001b[0m\u001b[0;34m)\u001b[0m\u001b[0;34m\u001b[0m\u001b[0m\n\u001b[1;32m     16\u001b[0m \u001b[0;34m\u001b[0m\u001b[0m\n\u001b[0;32m---> 17\u001b[0;31m     \u001b[0mresult\u001b[0m \u001b[0;34m=\u001b[0m \u001b[0mnp\u001b[0m\u001b[0;34m.\u001b[0m\u001b[0mint32\u001b[0m\u001b[0;34m(\u001b[0m\u001b[0mY\u001b[0m\u001b[0;34m^\u001b[0m\u001b[0mYhat\u001b[0m\u001b[0;34m)\u001b[0m\u001b[0;34m\u001b[0m\u001b[0m\n\u001b[0m\u001b[1;32m     18\u001b[0m     \u001b[0mprint\u001b[0m\u001b[0;34m(\u001b[0m\u001b[0;34m\"随机造成错误的数据有%d条，占总数据的 %.2f%%\"\u001b[0m \u001b[0;34m%\u001b[0m \u001b[0;34m(\u001b[0m\u001b[0mnp\u001b[0m\u001b[0;34m.\u001b[0m\u001b[0msum\u001b[0m\u001b[0;34m(\u001b[0m\u001b[0mresult\u001b[0m\u001b[0;34m)\u001b[0m\u001b[0;34m,\u001b[0m \u001b[0;36m100\u001b[0m\u001b[0;34m*\u001b[0m\u001b[0mnp\u001b[0m\u001b[0;34m.\u001b[0m\u001b[0msum\u001b[0m\u001b[0;34m(\u001b[0m\u001b[0mresult\u001b[0m\u001b[0;34m)\u001b[0m\u001b[0;34m/\u001b[0m\u001b[0mm\u001b[0m\u001b[0;34m)\u001b[0m\u001b[0;34m)\u001b[0m\u001b[0;34m\u001b[0m\u001b[0m\n\u001b[1;32m     19\u001b[0m \u001b[0;34m\u001b[0m\u001b[0m\n",
      "\u001b[0;31mNameError\u001b[0m: name 'Yhat' is not defined"
     ]
    }
   ],
   "source": [
    "import numpy as np\n",
    "import matplotlib.pyplot as plt\n",
    "def tf_data(m=1000):\n",
    "#   np.random.seed(const_number)  保证每次输出结果不变。\n",
    "    np.random.seed(1)\n",
    "    X = 2*np.random.randn(2,m)\n",
    "#   很方便的求 2-范数 的方法（相当于求半径）\n",
    "    R = np.linalg.norm(X,ord=2,axis=0).reshape(1,m)\n",
    "    oY = np.int32(np.array(R < 2.5))\n",
    "    np.random.seed(2)\n",
    "#   增加一个噪音\n",
    "    noise = .3 * np.random.normal(size=R.shape)\n",
    "    R = R + noise\n",
    "#   二值化输出\n",
    "    Y = np.int32(np.array(R < 2.5))\n",
    "    \n",
    "    result = np.int32(Y^Yhat)\n",
    "    print(\"随机造成错误的数据有%d条，占总数据的 %.2f%%\" % (np.sum(result), 100*np.sum(result)/m))\n",
    "    \n",
    "#   合并输入输出数据 （学会用 np.r_[...] 和 np.c_[...])\n",
    "    X = np.r_[X,Y]\n",
    "    return X\n",
    "\n",
    "def plot_tf(tf,alpha=0.2):\n",
    "    f = tf[:,tf[-1,:]==0]\n",
    "    t = tf[:,tf[-1,:]==1]\n",
    "    \n",
    "    plt.figure(figsize=(7,7),dpi=56)\n",
    "    plt.grid(True)\n",
    "    plt.plot(f[0], f[1], 'ro', alpha=alpha, label='red')\n",
    "    plt.plot(t[0], t[1], 'go', alpha=alpha, label='blue')\n",
    "    plt.legend()\n",
    "    plt.show()\n",
    "    \n",
    "tf = tf_data()\n",
    "plot_tf(tf)\n",
    "X = tf[:-1]\n",
    "Y = tf[-1:]"
   ]
  },
  {
   "cell_type": "markdown",
   "metadata": {},
   "source": [
    "## 2. 为 DNN 准备好逻辑回归用得着的  代价函数、激活函数、高级字典 Ea"
   ]
  },
  {
   "cell_type": "code",
   "execution_count": 2,
   "metadata": {
    "collapsed": true
   },
   "outputs": [],
   "source": [
    "# 高级字典 Ea\n",
    "from collections import defaultdict\n",
    "class Ea(defaultdict):\n",
    "    def __setattr__(self, name, value):\n",
    "        super(Ea, self).__setitem__(name, value)\n",
    "        \n",
    "def L2(A, Y):\n",
    "    loss = 1/2 * np.dot((A-Y), (A-Y).T)\n",
    "    loss = np.squeeze(loss)\n",
    "    return loss\n",
    "\n",
    "def dL2(A,Y):\n",
    "    return A-Y\n",
    "\n",
    "def L3(A, Y):\n",
    "    m = Y.shape[1]\n",
    "    loss = -1 / m * np.sum(Y * np.log(A) + (1-Y) * np.log(1-A), axis=1, keepdims=True)\n",
    "    loss = np.squeeze(loss)\n",
    "    assert (loss.shape == ())\n",
    "    return loss\n",
    "\n",
    "def dL3(A,Y):\n",
    "    loss = -Y/A + (1-Y)/(1-A)\n",
    "    loss = np.squeeze(loss)\n",
    "    return loss\n",
    "\n",
    "def relu(z):\n",
    "    g = np.fmax(z, 0)\n",
    "    return g\n",
    "\n",
    "def dz_relu(z):\n",
    "    g = np.fmax(z,0)\n",
    "    g = np.sign(g)\n",
    "    return g\n",
    "\n",
    "def leaky_relu(z):\n",
    "    g = np.fmax(z, 0.01*z)\n",
    "    return g\n",
    "\n",
    "def dz_leaky_relu(z):\n",
    "    g = np.piecewise(z, [z < 0, z > 0], [.01, 1])\n",
    "    return g\n",
    "\n",
    "def sigmoid(z):\n",
    "    g = 1 / (1 + np.exp(-z))\n",
    "    return g\n",
    "\n",
    "def dz_sigmoid(z):\n",
    "    s = sigmoid(z)\n",
    "    dz = s * (1-s)\n",
    "    return dz"
   ]
  },
  {
   "cell_type": "markdown",
   "metadata": {},
   "source": [
    "## 3. 实现DNN初始化参数和迭代方法"
   ]
  },
  {
   "cell_type": "code",
   "execution_count": 3,
   "metadata": {
    "collapsed": true
   },
   "outputs": [],
   "source": [
    "# DNN 网络 随机初始化 W, b\n",
    "def dnn_init_wb(L, n):\n",
    "    W = Ea()\n",
    "    b = Ea()\n",
    "    p = 0.2\n",
    "    for l in range(1, L + 1):\n",
    "        np.random.seed(2)\n",
    "        W[l] = np.random.normal(size=(n[l], n[l - 1])) * p\n",
    "        b[l] = np.zeros(shape=(n[l], 1))\n",
    "    return W,b\n",
    "\n",
    "# DNN 网络 根据网络模型，预测结果\n",
    "def dnn_predict(L,W,b,X):\n",
    "    A=Ea()\n",
    "    A[0]=X\n",
    "    Z=Ea()\n",
    "    \n",
    "    for l in range(1, L + 1):\n",
    "        Z[l] = np.dot(W[l], A[l - 1]) + b[l]\n",
    "        A[l] = g[l](Z[l])\n",
    "    yhat = A[L]\n",
    "    return yhat\n",
    "    \n",
    "\n",
    "# DNN 网络 迭代\n",
    "def dnn_run(X,Y,L,W,b,g,dg,J,dJ,learn_rate=0.02,max_itr=5000,tg=0.0001):\n",
    "    # max_itr: 最大迭代次数\n",
    "    # tg: 梯度截断参数\n",
    "    output_cost = []\n",
    "\n",
    "    A=Ea()\n",
    "    A[0]=X\n",
    "    dA = Ea()\n",
    "    dZ = Ea()\n",
    "    dW = Ea()\n",
    "    db = Ea()\n",
    "    Z=Ea()\n",
    "\n",
    "    break_flag = 0\n",
    "    old_cost = 0\n",
    "\n",
    "    for i in range(1, max_itr):\n",
    "        # forward properation\n",
    "        for l in range(1, L + 1):\n",
    "            Z[l] = np.dot(W[l], A[l - 1]) + b[l]\n",
    "            A[l] = g[l](Z[l])\n",
    "\n",
    "        cost = J(A[L], Y)\n",
    "        # print(cost)\n",
    "        dA[L] = dJ(A[L], Y)\n",
    "        output_cost.append(cost)\n",
    "        if old_cost - cost < tg * output_cost[0]:\n",
    "            break_flag += 1\n",
    "\n",
    "        old_cost = cost\n",
    "\n",
    "        # back properation\n",
    "        for l in range(0, L):\n",
    "            l = L - l\n",
    "            _dg = dg[l](Z[l])\n",
    "            dZ[l] = _dg * dA[l]\n",
    "            dA[l - 1] = np.dot(W[l].T, dZ[l])\n",
    "            dW[l] = 1 / X.shape[1] * np.dot(dZ[l], A[l - 1].T)\n",
    "            db[l] = 1 / X.shape[1] * np.sum(dZ[l], axis=1, keepdims=True)\n",
    "\n",
    "        # update parameters\n",
    "        for l in range(0, L):\n",
    "            l = L - l\n",
    "            W[l] = W[l] - learn_rate * dW[l]\n",
    "            b[l] = b[l] - learn_rate * db[l]\n",
    "\n",
    "        if break_flag > 30:\n",
    "            break\n",
    "\n",
    "    return np.squeeze(output_cost)"
   ]
  },
  {
   "cell_type": "markdown",
   "metadata": {},
   "source": [
    "## 3. 初始化超级参数"
   ]
  },
  {
   "cell_type": "code",
   "execution_count": 4,
   "metadata": {
    "collapsed": true
   },
   "outputs": [],
   "source": [
    "L=2 # 或 L=3 试试\n",
    "n=[0,20,4,1] # 定义每层神经节点个数\n",
    "n[0] = X.shape[0]\n",
    "n[L] = 1 # 前置输出层一个节点\n",
    "\n",
    "g = Ea() # 定义激活函数\n",
    "g[1] = relu\n",
    "g[2] = relu\n",
    "g[L] = sigmoid\n",
    "\n",
    "dg = Ea() # 定义激活导函数\n",
    "dg[1] = dz_relu\n",
    "dg[2] = dz_relu\n",
    "dg[L] = dz_sigmoid\n",
    "\n",
    "J = L3 #定义 代价函数 (试试 L2)\n",
    "dJ = dL3 #定义 代价导函数 (试试 dL2)"
   ]
  },
  {
   "cell_type": "markdown",
   "metadata": {},
   "source": [
    "## 4. DNN 跑数据，训练模型"
   ]
  },
  {
   "cell_type": "code",
   "execution_count": 5,
   "metadata": {},
   "outputs": [
    {
     "name": "stdout",
     "output_type": "stream",
     "text": [
      "0.152754771297\n"
     ]
    }
   ],
   "source": [
    "# 随机初始化 DNN Wb 参数\n",
    "W, b = dnn_init_wb(L, n)\n",
    "# DNN 训练模型\n",
    "costs = dnn_run(X, Y, L, W, b, g, dg, J, dJ, 0.1, max_itr=100000, tg=0.00001)\n",
    "# 注意：学习率要设高一些，否则学习会非常的慢\n",
    "# 输出模型最终 代价值\n",
    "print(costs[-1])"
   ]
  },
  {
   "cell_type": "markdown",
   "metadata": {},
   "source": [
    "## 5. 检查错误率"
   ]
  },
  {
   "cell_type": "code",
   "execution_count": 6,
   "metadata": {},
   "outputs": [
    {
     "name": "stdout",
     "output_type": "stream",
     "text": [
      "判断错误的数据有59条，占总数据的 5.90%\n"
     ]
    }
   ],
   "source": [
    "Yhat = dnn_predict(L,W,b,X)\n",
    "Yhat = np.array(Yhat > 0.5)\n",
    "Y = np.array(Y > 0.5)\n",
    "result = np.int32(Y^Yhat)\n",
    "\n",
    "print(\"判断错误的数据有%d条，占总数据的 %.2f%%\" % (np.sum(result), 100*np.sum(result)/X.shape[1]))"
   ]
  },
  {
   "cell_type": "markdown",
   "metadata": {},
   "source": [
    "## 6. 绘制逻辑回归损失函数"
   ]
  },
  {
   "cell_type": "code",
   "execution_count": 7,
   "metadata": {},
   "outputs": [
    {
     "data": {
      "image/png": "[encoded data removed]",
      "text/plain": [
       "<matplotlib.figure.Figure at 0x1147f8048>"
      ]
     },
     "metadata": {},
     "output_type": "display_data"
    }
   ],
   "source": [
    "g_names = []\n",
    "dg_names = []\n",
    "for l in range(1,L+1):\n",
    "    g_names.append(g[l].__name__)\n",
    "    dg_names.append(dg[l].__name__)\n",
    "    \n",
    "plt.title(\"Hide Layers:%d \\n\" \\\n",
    "          \"Notes of Layers:[%s] \\n\" \\\n",
    "          \"J(A,Y):%s \\n\" \\\n",
    "          \"g(Z):[%s]\" % (L,\n",
    "                         \", \".join(map(str,n[0:L+1])),\n",
    "                         J.__name__,\n",
    "                         \" -> \".join(g_names)),loc='left')\n",
    "plt.grid(True)\n",
    "wd = len(costs)\n",
    "plt.plot(range(0, len(costs)), costs, label='J (A,Y)')\n",
    "plt.ylabel(\"Cost\", fontsize=14)\n",
    "plt.xlabel(\"Iterators\", fontsize=14)\n",
    "plt.text(wd * .8, (costs[0]-costs[-1]) * .33, \"Cost:%f\" % costs[-1])\n",
    "plt.legend()\n",
    "plt.show()"
   ]
  }
 ],
 "metadata": {
  "kernelspec": {
   "display_name": "Python 3",
   "language": "python",
   "name": "python3"
  },
  "language_info": {
   "codemirror_mode": {
    "name": "ipython",
    "version": 3
   },
   "file_extension": ".py",
   "mimetype": "text/x-python",
   "name": "python",
   "nbconvert_exporter": "python",
   "pygments_lexer": "ipython3",
   "version": "3.6.3"
  }
 },
 "nbformat": 4,
 "nbformat_minor": 2
}
