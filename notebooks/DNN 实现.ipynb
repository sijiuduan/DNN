{
 "cells": [
  {
   "cell_type": "markdown",
   "metadata": {
    "collapsed": true
   },
   "source": [
    "http://mooc.study.163.com/course/2001281002#/info\n",
    "\n",
    "感谢吴恩达老师，这是我见过最好的 DNN 课程。<br>\n",
    "学完这们课程之后，再去看Ian那本著名《深度学习》就知道他在讲什么了。\n",
    "\n",
    "理解DNN之后，代码实现真不是个事。我把我的代码分享出来，希望能对其他同学有帮助。\n",
    "\n",
    "欢迎加我QQ，别忘了说你是这门课的同学。\n",
    "\n",
    "昵称：49<br>QQ：2055610 <br>邮箱：2055610@qq.com"
   ]
  },
  {
   "cell_type": "code",
   "execution_count": 1,
   "metadata": {
    "collapsed": true
   },
   "outputs": [],
   "source": [
    "import numpy as np"
   ]
  },
  {
   "cell_type": "markdown",
   "metadata": {},
   "source": [
    "# 1. 准备工作\n",
    "\n",
    "## 1.1 dict 升级\n",
    "\n",
    "为了使得后边的代码更简洁易懂，我在这里重载了dict的方法，使它支持用整数（int）直接当作key。"
   ]
  },
  {
   "cell_type": "code",
   "execution_count": 2,
   "metadata": {
    "collapsed": true
   },
   "outputs": [],
   "source": [
    "from collections import defaultdict\n",
    "class Ea(defaultdict):\n",
    "    def __setattr__(self, name, value):\n",
    "        super(Ea, self).__setitem__(name, value)"
   ]
  },
  {
   "cell_type": "markdown",
   "metadata": {},
   "source": [
    "## 1.2 准备好常用激活函数及其导数函数"
   ]
  },
  {
   "cell_type": "code",
   "execution_count": 3,
   "metadata": {
    "collapsed": true
   },
   "outputs": [],
   "source": [
    "# Active Functions\n",
    "def linear(z):\n",
    "    return z\n",
    "def dz_linear(z):\n",
    "    return 1\n",
    "\n",
    "def sigmoid(z):\n",
    "    g = 1 / (1 + np.exp(-z))\n",
    "    return g\n",
    "\n",
    "def dz_sigmoid(z):\n",
    "    s = sigmoid(z)\n",
    "    dz = s * (1-s)\n",
    "    return dz\n",
    "\n",
    "def tanh(z):\n",
    "    return np.tanh(z)\n",
    "\n",
    "def dz_tranh(z):\n",
    "    t = tanh(z)\n",
    "    dz = 1-t**2\n",
    "    return dz\n",
    "\n",
    "def relu(z):\n",
    "    g = np.fmax(z, 0)\n",
    "    return g\n",
    "\n",
    "def dz_relu(z):\n",
    "    g = np.fmax(z,0)\n",
    "    g = np.sign(g)\n",
    "    return g\n",
    "\n",
    "def leaky_relu(z):\n",
    "    g = np.fmax(z, 0.01*z)\n",
    "    return g\n",
    "\n",
    "def dz_leaky_relu(z):\n",
    "    g = np.piecewise(z, [z < 0, z > 0], [.01, 1])\n",
    "    return g"
   ]
  },
  {
   "cell_type": "markdown",
   "metadata": {},
   "source": [
    "## 1.3 常用损失函数及其导函数"
   ]
  },
  {
   "cell_type": "code",
   "execution_count": 4,
   "metadata": {
    "collapsed": true
   },
   "outputs": [],
   "source": [
    "# Cost Functions\n",
    "def L1(A, Y):\n",
    "    loss = np.sum(np.abs(A-Y))\n",
    "    loss = np.squeeze(loss)\n",
    "    return loss\n",
    "\n",
    "def dA_L1(A,Y):\n",
    "    return np.sign(A-Y)\n",
    "\n",
    "def L2(A, Y):\n",
    "    loss = 1/2 * np.dot((A-Y), (A-Y).T)\n",
    "    loss = np.squeeze(loss)\n",
    "    return loss\n",
    "\n",
    "def dA_L2(A,Y):\n",
    "    return A-Y\n",
    "\n",
    "def L3(A, Y):\n",
    "    m = Y.shape[0]\n",
    "    loss = -1 / m * np.sum(Y * np.log(A) + (1-Y) * np.log(1-A), axis=1, keepdims=True)\n",
    "    loss = np.squeeze(loss)\n",
    "    assert (loss.shape == ())\n",
    "    return loss\n",
    "\n",
    "def dA_L3(A,Y):\n",
    "    loss = -Y/A + (1-Y)*np.log(1-A)\n",
    "    loss = np.squeeze(loss)\n",
    "    return loss"
   ]
  },
  {
   "cell_type": "markdown",
   "metadata": {},
   "source": [
    "## 1.4 准备一个线性回归的测试数据，增加一些噪音"
   ]
  },
  {
   "cell_type": "markdown",
   "metadata": {},
   "source": [
    "学习一个线性模型，对DNN来说可能大材小用。但可帮助理解DNN是怎么工作的。"
   ]
  },
  {
   "cell_type": "code",
   "execution_count": 5,
   "metadata": {},
   "outputs": [
    {
     "name": "stdout",
     "output_type": "stream",
     "text": [
      "0.0535784402332\n"
     ]
    }
   ],
   "source": [
    "# Data \n",
    "def sX(w,b,m):\n",
    "    nx = len(w)\n",
    "    X = np.random.normal(size=(nx, m))\n",
    "    Y = np.dot(w, X) + b\n",
    "    noise = .01 * np.random.normal(size=Y.shape)\n",
    "    print(L2(noise,0))\n",
    "    Y += noise\n",
    "    return X, Y\n",
    "\n",
    "# Data X    Target Y\n",
    "true_w = [2, -3.4,5]\n",
    "true_b = [4.2]\n",
    "m = 1000\n",
    "X,Y = sX(true_w, true_b, m)"
   ]
  },
  {
   "cell_type": "markdown",
   "metadata": {},
   "source": [
    "# 2.深层神经网络实现\n",
    "## 2.1 初始化“超参”、定义网络结构"
   ]
  },
  {
   "cell_type": "code",
   "execution_count": 6,
   "metadata": {
    "collapsed": true
   },
   "outputs": [],
   "source": [
    "# Hyperparameters\n",
    "L = 4 # 神经网络层数 \n",
    "learn_rate = 0.02 # 学习率 （有些书里，学习率用alpha表示）\n",
    "iterators = 5000  # 迭代次数\n",
    "\n",
    "n = Ea()\n",
    "n[0] = X.shape[0] # 第0层是输入层。\n",
    "n[1] = 4 # 第1层 4 个节点\n",
    "n[2] = 4 # 第2层 4 个节点\n",
    "n[3] = 4 # 第3层 4 个节点\n",
    "n[4] = 1 # 第4层 1 个节点\n",
    "n[L] = 1 # 强制输出层 1 个节点\n",
    "\n",
    "g = Ea() # 分层定义激活函数\n",
    "g[1] = linear\n",
    "g[2] = linear\n",
    "g[3] = linear\n",
    "g[4] = linear\n",
    "\n",
    "dg = Ea() # 分层定义激活导函数\n",
    "dg[1] = dz_linear\n",
    "dg[2] = dz_linear\n",
    "dg[3] = dz_linear\n",
    "dg[4] = dz_linear\n",
    "\n",
    "loss = L2 # 定义成本函数\n",
    "dA_loss = dA_L2 # 定义成本导函数"
   ]
  },
  {
   "cell_type": "markdown",
   "metadata": {},
   "source": [
    "这里使用了Ea，g[1]=linear 相当于向dict里存了一个函数的索引（指针）。是不是很方便?\n",
    "\n",
    "我们的Demo数据是一个线性模型，所以激活函数和导函数用linear和dz_linear<br>\n",
    "其实你发现，用relu也可以，但学习速度慢，且误差大，你可以考虑为什么？<br>\n",
    "L=1 相当于线性回归，你可以试试。<br>\n",
    "用 L1, dA_L1 作为成本函数及其导函数试试，看看结果会怎么样？\n"
   ]
  },
  {
   "cell_type": "markdown",
   "metadata": {},
   "source": [
    "## 2.2 随机初始化参数 W，b"
   ]
  },
  {
   "cell_type": "markdown",
   "metadata": {},
   "source": [
    "随机初始化参数的说法，有些误导性。<br>\n",
    "你会发现，我们需要的是有策略的随机。我们要有策略的”撞大运“<br>\n",
    "\n",
    "希望你能理解，什么叫有策略的“撞大运”<br>\n",
    "这点十分重要。这甚至是神经网络的一个研究方向<br>\n",
    "\n",
    "我这里简单的使用 np.random.normal(一组符合正态分布的随机数）并控制在(-P,P)<br>\n",
    "建议你p=0.01试试，看看会怎么样？"
   ]
  },
  {
   "cell_type": "code",
   "execution_count": 7,
   "metadata": {
    "collapsed": true
   },
   "outputs": [],
   "source": [
    "# Parameters W,b\n",
    "W=Ea()\n",
    "b=Ea()\n",
    "p = 0.1\n",
    "for l in range(1,L+1):\n",
    "    W[l] = (2 * np.random.normal(size=(n[l], n[l - 1])) - 1) * p\n",
    "    b[l] = np.zeros(shape=(n[l], 1))"
   ]
  },
  {
   "cell_type": "markdown",
   "metadata": {},
   "source": [
    "## 2.3 深层网络的迭代实现\n",
    "因为使用了Ea，代码就能像课程里的伪代码一样简洁。（感慨一下 python 的便利）"
   ]
  },
  {
   "cell_type": "code",
   "execution_count": 8,
   "metadata": {},
   "outputs": [
    {
     "name": "stdout",
     "output_type": "stream",
     "text": [
      "Final Cost: 0.053364955914849875\n",
      "true_w: [2, -3.4, 5]\n",
      "W: [[-0.27951217  0.5187474  -0.6310378 ]\n",
      " [ 0.19093557 -0.43347438  0.76496814]\n",
      " [ 0.35205615 -0.38327213  0.26182662]\n",
      " [ 0.19211259 -0.33301966  0.68121513]]\n",
      "true_b: [4.2]\n",
      "b: [[-0.03128255]\n",
      " [ 0.07006918]\n",
      " [ 0.11231595]\n",
      " [ 0.09451161]]\n"
     ]
    }
   ],
   "source": [
    "Z = Ea(); A = Ea()\n",
    "A[0]=X\n",
    "dZ=Ea();dA=Ea();dW=Ea();db=Ea()\n",
    "output_cost = []\n",
    "\n",
    "for iter in range(1,iterators):\n",
    "    # forward properation\n",
    "    for l in range(1,L+1):\n",
    "        Z[l] = np.dot(W[l], A[l - 1]) + b[l]\n",
    "        A[l] = g[l](Z[l])\n",
    "\n",
    "    cost = loss(A[L],Y)    \n",
    "    output_cost.append(cost)\n",
    "    dA[L] = dA_loss(A[L], Y)\n",
    "    \n",
    "    # back properation\n",
    "    for l in range(0,L):\n",
    "        l = L-l\n",
    "        dZ[l] = dA[l] * dg[l](Z[l])\n",
    "        dA[l-1] = np.dot(W[l].T,dZ[l])\n",
    "        dW[l] = 1/m * np.dot(dZ[l],A[l-1].T)\n",
    "        db[l] = 1/m * np.sum(dZ[l],axis=1, keepdims=True)\n",
    "\n",
    "    # update parameters\n",
    "    for l in range(0,L):\n",
    "        l = L-l\n",
    "        W[l] = W[l] - learn_rate * dW[l]\n",
    "        b[l] = b[l] - learn_rate * db[l]\n",
    "        \n",
    "print(\"Final Cost:\",cost)\n",
    "print(\"true_w:\",true_w)\n",
    "print(\"W:\",W[1])\n",
    "print(\"true_b:\",true_b)\n",
    "print(\"b:\",b[1])"
   ]
  },
  {
   "cell_type": "markdown",
   "metadata": {},
   "source": [
    "## 2.4 绘制代价函数，观察学习效果"
   ]
  },
  {
   "cell_type": "code",
   "execution_count": 9,
   "metadata": {},
   "outputs": [
    {
     "data": {
      "image/png": "[encoded data removed]",
      "text/plain": [
       "<matplotlib.figure.Figure at 0x10eab4860>"
      ]
     },
     "metadata": {},
     "output_type": "display_data"
    }
   ],
   "source": [
    "import matplotlib.pyplot as plt\n",
    "plt.title(\"Cost with iterators \")\n",
    "plt.grid(True)\n",
    "wd = 200\n",
    "plt.plot(range(1,wd-1),output_cost[1:wd-1],label='J (A,Y)')\n",
    "plt.ylabel(\"Cost\",fontsize=14)\n",
    "plt.xlabel(\"Iterators\",fontsize=14)\n",
    "plt.text(wd*.8,output_cost[0]*.05,\"Cost:%f\" % cost)\n",
    "plt.legend()\n",
    "plt.show()"
   ]
  }
 ],
 "metadata": {
  "kernelspec": {
   "display_name": "Python 3",
   "language": "python",
   "name": "python3"
  },
  "language_info": {
   "codemirror_mode": {
    "name": "ipython",
    "version": 3
   },
   "file_extension": ".py",
   "mimetype": "text/x-python",
   "name": "python",
   "nbconvert_exporter": "python",
   "pygments_lexer": "ipython3",
   "version": "3.6.3"
  }
 },
 "nbformat": 4,
 "nbformat_minor": 2
}
