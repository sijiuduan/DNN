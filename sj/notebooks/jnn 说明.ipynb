{
 "cells": [
  {
   "cell_type": "markdown",
   "metadata": {},
   "source": [
    "$L_2 = \\frac{1}{2}\\sum_{i=1}^{m}(\\hat{y}^{(i)}-y^{(i)})^2$"
   ]
  },
  {
   "cell_type": "markdown",
   "metadata": {},
   "source": [
    "$\\hat{y}\\approx{y}$"
   ]
  },
  {
   "cell_type": "markdown",
   "metadata": {},
   "source": [
    "$\\{(x^{(1)},y^{(1)}),(x^{(2)},y^{(2)}),...,(x^{(m)},y^{(m)})\\}$"
   ]
  },
  {
   "cell_type": "markdown",
   "metadata": {},
   "source": [
    "# jnn \n",
    "我把之前写的神经网络的代码做了一些整理。封装成一个叫 jnn 的库。  \n",
    "\n",
    "> 激活函数放到 jnn.activFun  \n",
    "代价函数放到 jnn.costFun  \n",
    "神经网络网络 jnn.nn  \n",
    "测试数据生成 jnn.dataFactory  \n",
    "绘图常用工具 jnn.plot  \n",
    "超级字典工具 jnn.ea  "
   ]
  },
  {
   "cell_type": "markdown",
   "metadata": {},
   "source": [
    "$\\mathcal{L}(A,Y)=\\frac{1}{2}\\sum{(A-Y)^2}$\n",
    "\n",
    "\n",
    "$\\frac{\\delta{\\mathcal{L}(A,Y)}}{\\delta{A}} = A-Y$"
   ]
  },
  {
   "cell_type": "markdown",
   "metadata": {},
   "source": [
    "$\\mathcal{L}(A,Y)=\\sum{|A-Y|}$\n",
    "\n",
    "\n",
    "$\\frac{\\delta{\\mathcal{L}(A,Y)}}{\\delta{A}} = \\begin{cases}\n",
    "1   &   & A\\geq{Y}\\\\\n",
    "-1  &   & \\text{A<y}\n",
    "\\end{cases}$\n",
    "\n",
    "$f^\\prime(g(x)) = \\frac{\\mathrm{d}{f(g(x))}}{\\mathrm{d}x}=\\frac{\\mathrm{d}{f(g(x))}}{\\mathrm{\\mathrm{d}g(x)}}\\frac{\\mathrm{d}g(x)}{\\mathrm{d}x}$"
   ]
  },
  {
   "cell_type": "markdown",
   "metadata": {
    "collapsed": true
   },
   "source": [
    "$\\vec{w}\\vec{x}+\\vec{b}$\n",
    "\n",
    "$\\vec{w^\\prime} \\cdot [\\vec{x},1]^T$"
   ]
  }
 ],
 "metadata": {
  "kernelspec": {
   "display_name": "Python 3",
   "language": "python",
   "name": "python3"
  },
  "language_info": {
   "codemirror_mode": {
    "name": "ipython",
    "version": 3
   },
   "file_extension": ".py",
   "mimetype": "text/x-python",
   "name": "python",
   "nbconvert_exporter": "python",
   "pygments_lexer": "ipython3",
   "version": "3.6.3"
  }
 },
 "nbformat": 4,
 "nbformat_minor": 2
}
