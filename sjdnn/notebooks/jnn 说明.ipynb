{
 "cells": [
  {
   "cell_type": "markdown",
   "metadata": {},
   "source": [
    "# jnn \n",
    "我把之前写的神经网络的代码做了一些整理。封装成一个叫 jnn 的库。  \n",
    "\n",
    "> 激活函数放到 jnn.activFun  \n",
    "代价函数放到 jnn.costFun  \n",
    "神经网络网络 jnn.nn  \n",
    "测试数据生成 jnn.dataFactory  \n",
    "绘图常用工具 jnn.plot  \n",
    "超级字典工具 jnn.ea  "
   ]
  }
 ],
 "metadata": {
  "kernelspec": {
   "display_name": "Python 3",
   "language": "python",
   "name": "python3"
  },
  "language_info": {
   "codemirror_mode": {
    "name": "ipython",
    "version": 3
   },
   "file_extension": ".py",
   "mimetype": "text/x-python",
   "name": "python",
   "nbconvert_exporter": "python",
   "pygments_lexer": "ipython3",
   "version": "3.6.3"
  }
 },
 "nbformat": 4,
 "nbformat_minor": 2
}
